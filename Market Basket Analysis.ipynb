{
 "cells": [
  {
   "cell_type": "markdown",
   "metadata": {},
   "source": [
    "#### Association 101\n",
    "Association rules are normally written like this: {Milk} -> {Butter} which means that there is a strong relationship between customers that purchased Milk and also purchased Butter in the same transaction.\n",
    "\n",
    "In the above example, the {Milk} is the antecedent and the {Butter} is the consequent. Both antecedents and consequents can have multiple items. In other words, {Milk, Eggs} -> {Butter, CakeMix} is a valid rule.\n",
    "\n",
    "#### Support is the relative frequency that the rules show up. In many instances, you may want to look for high support in order to make sure it is a useful relationship. However, there may be instances where a low support is useful if you are trying to find “hidden” relationships.\n",
    "\n",
    "#### Confidence is a measure of the reliability of the rule. A confidence of .5 in the above example would mean that in 50% of the cases where Milk & Eggs were purchased, the purchase also included Butter and CakeMix. For product recommendation, a 50% confidence may be perfectly acceptable but in a medical situation, this level may not be high enough.\n",
    "\n",
    "#### Lift is the ratio of the observed support to that expected if the two rules were independent (see wikipedia). The basic rule of thumb is that a lift value close to 1 means the rules were completely independent. Lift values > 1 are generally more “interesting” and could be indicative of a useful rule pattern.\n",
    "\n",
    "Association analysis is relatively light on the math concepts and easy to explain to non-technical people. In addition, it is an unsupervised learning tool that looks for hidden patterns so there is limited need for data prep and feature engineering. It is a good start for certain cases of data exploration and can point the way for a deeper dive into the data using other approaches."
   ]
  },
  {
   "cell_type": "code",
   "execution_count": 1,
   "metadata": {},
   "outputs": [
    {
     "data": {
      "text/html": [
       "<div>\n",
       "<style scoped>\n",
       "    .dataframe tbody tr th:only-of-type {\n",
       "        vertical-align: middle;\n",
       "    }\n",
       "\n",
       "    .dataframe tbody tr th {\n",
       "        vertical-align: top;\n",
       "    }\n",
       "\n",
       "    .dataframe thead th {\n",
       "        text-align: right;\n",
       "    }\n",
       "</style>\n",
       "<table border=\"1\" class=\"dataframe\">\n",
       "  <thead>\n",
       "    <tr style=\"text-align: right;\">\n",
       "      <th></th>\n",
       "      <th>InvoiceNo</th>\n",
       "      <th>StockCode</th>\n",
       "      <th>Description</th>\n",
       "      <th>Quantity</th>\n",
       "      <th>InvoiceDate</th>\n",
       "      <th>UnitPrice</th>\n",
       "      <th>CustomerID</th>\n",
       "      <th>Country</th>\n",
       "    </tr>\n",
       "  </thead>\n",
       "  <tbody>\n",
       "    <tr>\n",
       "      <th>0</th>\n",
       "      <td>536365</td>\n",
       "      <td>85123A</td>\n",
       "      <td>WHITE HANGING HEART T-LIGHT HOLDER</td>\n",
       "      <td>6</td>\n",
       "      <td>2010-12-01 08:26:00</td>\n",
       "      <td>2.55</td>\n",
       "      <td>17850.0</td>\n",
       "      <td>United Kingdom</td>\n",
       "    </tr>\n",
       "    <tr>\n",
       "      <th>1</th>\n",
       "      <td>536365</td>\n",
       "      <td>71053</td>\n",
       "      <td>WHITE METAL LANTERN</td>\n",
       "      <td>6</td>\n",
       "      <td>2010-12-01 08:26:00</td>\n",
       "      <td>3.39</td>\n",
       "      <td>17850.0</td>\n",
       "      <td>United Kingdom</td>\n",
       "    </tr>\n",
       "    <tr>\n",
       "      <th>2</th>\n",
       "      <td>536365</td>\n",
       "      <td>84406B</td>\n",
       "      <td>CREAM CUPID HEARTS COAT HANGER</td>\n",
       "      <td>8</td>\n",
       "      <td>2010-12-01 08:26:00</td>\n",
       "      <td>2.75</td>\n",
       "      <td>17850.0</td>\n",
       "      <td>United Kingdom</td>\n",
       "    </tr>\n",
       "    <tr>\n",
       "      <th>3</th>\n",
       "      <td>536365</td>\n",
       "      <td>84029G</td>\n",
       "      <td>KNITTED UNION FLAG HOT WATER BOTTLE</td>\n",
       "      <td>6</td>\n",
       "      <td>2010-12-01 08:26:00</td>\n",
       "      <td>3.39</td>\n",
       "      <td>17850.0</td>\n",
       "      <td>United Kingdom</td>\n",
       "    </tr>\n",
       "    <tr>\n",
       "      <th>4</th>\n",
       "      <td>536365</td>\n",
       "      <td>84029E</td>\n",
       "      <td>RED WOOLLY HOTTIE WHITE HEART.</td>\n",
       "      <td>6</td>\n",
       "      <td>2010-12-01 08:26:00</td>\n",
       "      <td>3.39</td>\n",
       "      <td>17850.0</td>\n",
       "      <td>United Kingdom</td>\n",
       "    </tr>\n",
       "  </tbody>\n",
       "</table>\n",
       "</div>"
      ],
      "text/plain": [
       "  InvoiceNo StockCode                          Description  Quantity  \\\n",
       "0    536365    85123A   WHITE HANGING HEART T-LIGHT HOLDER         6   \n",
       "1    536365     71053                  WHITE METAL LANTERN         6   \n",
       "2    536365    84406B       CREAM CUPID HEARTS COAT HANGER         8   \n",
       "3    536365    84029G  KNITTED UNION FLAG HOT WATER BOTTLE         6   \n",
       "4    536365    84029E       RED WOOLLY HOTTIE WHITE HEART.         6   \n",
       "\n",
       "          InvoiceDate  UnitPrice  CustomerID         Country  \n",
       "0 2010-12-01 08:26:00       2.55     17850.0  United Kingdom  \n",
       "1 2010-12-01 08:26:00       3.39     17850.0  United Kingdom  \n",
       "2 2010-12-01 08:26:00       2.75     17850.0  United Kingdom  \n",
       "3 2010-12-01 08:26:00       3.39     17850.0  United Kingdom  \n",
       "4 2010-12-01 08:26:00       3.39     17850.0  United Kingdom  "
      ]
     },
     "execution_count": 1,
     "metadata": {},
     "output_type": "execute_result"
    }
   ],
   "source": [
    "# Source: https://pbpython.com/market-basket-analysis.html\n",
    "\n",
    "import pandas as pd\n",
    "import matplotlib.pyplot as plt\n",
    "import seaborn as sns\n",
    "%matplotlib inline\n",
    "from mlxtend.frequent_patterns import apriori\n",
    "from mlxtend.frequent_patterns import association_rules\n",
    "\n",
    "df = pd.read_excel('Online_retail.xlsx')\n",
    "df.head()"
   ]
  },
  {
   "cell_type": "code",
   "execution_count": 2,
   "metadata": {},
   "outputs": [
    {
     "data": {
      "text/plain": [
       "(541909, 8)"
      ]
     },
     "execution_count": 2,
     "metadata": {},
     "output_type": "execute_result"
    }
   ],
   "source": [
    "df.shape"
   ]
  },
  {
   "cell_type": "code",
   "execution_count": 3,
   "metadata": {},
   "outputs": [
    {
     "data": {
      "text/plain": [
       "<AxesSubplot:>"
      ]
     },
     "execution_count": 3,
     "metadata": {},
     "output_type": "execute_result"
    },
    {
     "data": {
      "image/png": "[encoded data removed]",
      "text/plain": [
       "<Figure size 432x288 with 1 Axes>"
      ]
     },
     "metadata": {
      "needs_background": "light"
     },
     "output_type": "display_data"
    }
   ],
   "source": [
    "#Visualise if dataset has null values\n",
    "sns.heatmap(df.isnull(),yticklabels=False,cbar=False,cmap='viridis')"
   ]
  },
  {
   "cell_type": "markdown",
   "metadata": {},
   "source": [
    "There is a little cleanup, we need to do. First, some of the descriptions have spaces that need to be removed. We’ll also drop the rows that don’t have invoice numbers and remove the credit transactions (those with invoice numbers containing C)."
   ]
  },
  {
   "cell_type": "code",
   "execution_count": 4,
   "metadata": {},
   "outputs": [],
   "source": [
    "df['Description'] = df['Description'].str.strip()\n",
    "df.dropna(axis=0, subset=['InvoiceNo'], inplace=True)\n",
    "df['InvoiceNo'] = df['InvoiceNo'].astype('str')\n",
    "df = df[~df['InvoiceNo'].str.contains('C')]"
   ]
  },
  {
   "cell_type": "code",
   "execution_count": 5,
   "metadata": {},
   "outputs": [
    {
     "data": {
      "text/plain": [
       "<AxesSubplot:>"
      ]
     },
     "execution_count": 5,
     "metadata": {},
     "output_type": "execute_result"
    },
    {
     "data": {
      "image/png": "[encoded data removed]",
      "text/plain": [
       "<Figure size 432x288 with 1 Axes>"
      ]
     },
     "metadata": {
      "needs_background": "light"
     },
     "output_type": "display_data"
    }
   ],
   "source": [
    "#Visualise again if dataset has been cleaned up\n",
    "sns.heatmap(df.isnull(),yticklabels=False,cbar=False,cmap='viridis')"
   ]
  },
  {
   "cell_type": "markdown",
   "metadata": {},
   "source": [
    "After the cleanup, we need to consolidate the items into 1 transaction per row with each product 1 hot encoded. For the sake of keeping the data set small, I’m only looking at sales for France. However, in additional code below, I will compare these results to sales from Germany. Further country comparisons would be interesting to investigate."
   ]
  },
  {
   "cell_type": "code",
   "execution_count": 8,
   "metadata": {},
   "outputs": [],
   "source": [
    "basket = (df[df['Country'] ==\"France\"]\n",
    "          .groupby(['InvoiceNo', 'Description'])['Quantity']\n",
    "          .sum().unstack().reset_index().fillna(0)\n",
    "          .set_index('InvoiceNo'))"
   ]
  },
  {
   "cell_type": "markdown",
   "metadata": {},
   "source": [
    "There are a lot of zeros in the data but we also need to make sure any positive values are converted to a 1 and anything less the 0 is set to 0. This step will complete the one hot encoding of the data and remove the postage column (since that charge is not one we wish to explore):"
   ]
  },
  {
   "cell_type": "code",
   "execution_count": 9,
   "metadata": {},
   "outputs": [],
   "source": [
    "def encode_units(x):\n",
    "    if x <= 0:\n",
    "        return 0\n",
    "    if x >= 1:\n",
    "        return 1\n",
    "\n",
    "basket_sets = basket.applymap(encode_units)\n",
    "basket_sets.drop('POSTAGE', inplace=True, axis=1)"
   ]
  },
  {
   "cell_type": "markdown",
   "metadata": {},
   "source": [
    "Now that the data is structured properly, we can generate frequent item sets that have a support of at least 7% (this number was chosen so that I could get enough useful examples):"
   ]
  },
  {
   "cell_type": "code",
   "execution_count": 10,
   "metadata": {},
   "outputs": [],
   "source": [
    "frequent_itemsets = apriori(basket_sets, min_support=0.07, use_colnames=True)"
   ]
  },
  {
   "cell_type": "markdown",
   "metadata": {},
   "source": [
    "The final step is to generate the rules with their corresponding support, confidence and lift:"
   ]
  },
  {
   "cell_type": "code",
   "execution_count": 11,
   "metadata": {},
   "outputs": [
    {
     "data": {
      "text/html": [
       "<div>\n",
       "<style scoped>\n",
       "    .dataframe tbody tr th:only-of-type {\n",
       "        vertical-align: middle;\n",
       "    }\n",
       "\n",
       "    .dataframe tbody tr th {\n",
       "        vertical-align: top;\n",
       "    }\n",
       "\n",
       "    .dataframe thead th {\n",
       "        text-align: right;\n",
       "    }\n",
       "</style>\n",
       "<table border=\"1\" class=\"dataframe\">\n",
       "  <thead>\n",
       "    <tr style=\"text-align: right;\">\n",
       "      <th></th>\n",
       "      <th>antecedents</th>\n",
       "      <th>consequents</th>\n",
       "      <th>antecedent support</th>\n",
       "      <th>consequent support</th>\n",
       "      <th>support</th>\n",
       "      <th>confidence</th>\n",
       "      <th>lift</th>\n",
       "      <th>leverage</th>\n",
       "      <th>conviction</th>\n",
       "    </tr>\n",
       "  </thead>\n",
       "  <tbody>\n",
       "    <tr>\n",
       "      <th>0</th>\n",
       "      <td>(PLASTERS IN TIN CIRCUS PARADE )</td>\n",
       "      <td>(PLASTERS IN TIN SPACEBOY)</td>\n",
       "      <td>0.143167</td>\n",
       "      <td>0.117137</td>\n",
       "      <td>0.075922</td>\n",
       "      <td>0.530303</td>\n",
       "      <td>4.527217</td>\n",
       "      <td>0.059152</td>\n",
       "      <td>1.879645</td>\n",
       "    </tr>\n",
       "    <tr>\n",
       "      <th>1</th>\n",
       "      <td>(PLASTERS IN TIN SPACEBOY)</td>\n",
       "      <td>(PLASTERS IN TIN CIRCUS PARADE )</td>\n",
       "      <td>0.117137</td>\n",
       "      <td>0.143167</td>\n",
       "      <td>0.075922</td>\n",
       "      <td>0.648148</td>\n",
       "      <td>4.527217</td>\n",
       "      <td>0.059152</td>\n",
       "      <td>2.435209</td>\n",
       "    </tr>\n",
       "    <tr>\n",
       "      <th>2</th>\n",
       "      <td>(PLASTERS IN TIN CIRCUS PARADE )</td>\n",
       "      <td>(PLASTERS IN TIN WOODLAND ANIMALS)</td>\n",
       "      <td>0.143167</td>\n",
       "      <td>0.145336</td>\n",
       "      <td>0.086768</td>\n",
       "      <td>0.606061</td>\n",
       "      <td>4.170059</td>\n",
       "      <td>0.065961</td>\n",
       "      <td>2.169531</td>\n",
       "    </tr>\n",
       "    <tr>\n",
       "      <th>3</th>\n",
       "      <td>(PLASTERS IN TIN WOODLAND ANIMALS)</td>\n",
       "      <td>(PLASTERS IN TIN CIRCUS PARADE )</td>\n",
       "      <td>0.145336</td>\n",
       "      <td>0.143167</td>\n",
       "      <td>0.086768</td>\n",
       "      <td>0.597015</td>\n",
       "      <td>4.170059</td>\n",
       "      <td>0.065961</td>\n",
       "      <td>2.126215</td>\n",
       "    </tr>\n",
       "    <tr>\n",
       "      <th>4</th>\n",
       "      <td>(PLASTERS IN TIN SPACEBOY)</td>\n",
       "      <td>(PLASTERS IN TIN WOODLAND ANIMALS)</td>\n",
       "      <td>0.117137</td>\n",
       "      <td>0.145336</td>\n",
       "      <td>0.088937</td>\n",
       "      <td>0.759259</td>\n",
       "      <td>5.224157</td>\n",
       "      <td>0.071913</td>\n",
       "      <td>3.550142</td>\n",
       "    </tr>\n",
       "  </tbody>\n",
       "</table>\n",
       "</div>"
      ],
      "text/plain": [
       "                          antecedents                         consequents  \\\n",
       "0    (PLASTERS IN TIN CIRCUS PARADE )          (PLASTERS IN TIN SPACEBOY)   \n",
       "1          (PLASTERS IN TIN SPACEBOY)    (PLASTERS IN TIN CIRCUS PARADE )   \n",
       "2    (PLASTERS IN TIN CIRCUS PARADE )  (PLASTERS IN TIN WOODLAND ANIMALS)   \n",
       "3  (PLASTERS IN TIN WOODLAND ANIMALS)    (PLASTERS IN TIN CIRCUS PARADE )   \n",
       "4          (PLASTERS IN TIN SPACEBOY)  (PLASTERS IN TIN WOODLAND ANIMALS)   \n",
       "\n",
       "   antecedent support  consequent support   support  confidence      lift  \\\n",
       "0            0.143167            0.117137  0.075922    0.530303  4.527217   \n",
       "1            0.117137            0.143167  0.075922    0.648148  4.527217   \n",
       "2            0.143167            0.145336  0.086768    0.606061  4.170059   \n",
       "3            0.145336            0.143167  0.086768    0.597015  4.170059   \n",
       "4            0.117137            0.145336  0.088937    0.759259  5.224157   \n",
       "\n",
       "   leverage  conviction  \n",
       "0  0.059152    1.879645  \n",
       "1  0.059152    2.435209  \n",
       "2  0.065961    2.169531  \n",
       "3  0.065961    2.126215  \n",
       "4  0.071913    3.550142  "
      ]
     },
     "execution_count": 11,
     "metadata": {},
     "output_type": "execute_result"
    }
   ],
   "source": [
    "rules = association_rules(frequent_itemsets, metric=\"lift\", min_threshold=1)\n",
    "rules.head()"
   ]
  },
  {
   "cell_type": "markdown",
   "metadata": {},
   "source": [
    "That’s all there is to it! Build the frequent items using apriori then build the rules with association_rules .\n",
    "\n",
    "Now, the tricky part is figuring out what this tells us. For instance, we can see that there are quite a few rules with a high lift value which means that it occurs more frequently than would be expected given the number of transaction and product combinations. We can also see several where the confidence is high as well. This part of the analysis is where the domain knowledge will come in handy. Since I do not have that, I’ll just look for a couple of illustrative examples.\n",
    "\n",
    "We can filter the dataframe using standard pandas code. In this case, look for a large lift (6) and high confidence (.8):"
   ]
  },
  {
   "cell_type": "code",
   "execution_count": 12,
   "metadata": {},
   "outputs": [
    {
     "data": {
      "text/html": [
       "<div>\n",
       "<style scoped>\n",
       "    .dataframe tbody tr th:only-of-type {\n",
       "        vertical-align: middle;\n",
       "    }\n",
       "\n",
       "    .dataframe tbody tr th {\n",
       "        vertical-align: top;\n",
       "    }\n",
       "\n",
       "    .dataframe thead th {\n",
       "        text-align: right;\n",
       "    }\n",
       "</style>\n",
       "<table border=\"1\" class=\"dataframe\">\n",
       "  <thead>\n",
       "    <tr style=\"text-align: right;\">\n",
       "      <th></th>\n",
       "      <th>antecedents</th>\n",
       "      <th>consequents</th>\n",
       "      <th>antecedent support</th>\n",
       "      <th>consequent support</th>\n",
       "      <th>support</th>\n",
       "      <th>confidence</th>\n",
       "      <th>lift</th>\n",
       "      <th>leverage</th>\n",
       "      <th>conviction</th>\n",
       "    </tr>\n",
       "  </thead>\n",
       "  <tbody>\n",
       "    <tr>\n",
       "      <th>10</th>\n",
       "      <td>(SET/6 RED SPOTTY PAPER CUPS)</td>\n",
       "      <td>(SET/6 RED SPOTTY PAPER PLATES)</td>\n",
       "      <td>0.117137</td>\n",
       "      <td>0.108460</td>\n",
       "      <td>0.104121</td>\n",
       "      <td>0.888889</td>\n",
       "      <td>8.195556</td>\n",
       "      <td>0.091417</td>\n",
       "      <td>8.023861</td>\n",
       "    </tr>\n",
       "    <tr>\n",
       "      <th>11</th>\n",
       "      <td>(SET/6 RED SPOTTY PAPER PLATES)</td>\n",
       "      <td>(SET/6 RED SPOTTY PAPER CUPS)</td>\n",
       "      <td>0.108460</td>\n",
       "      <td>0.117137</td>\n",
       "      <td>0.104121</td>\n",
       "      <td>0.960000</td>\n",
       "      <td>8.195556</td>\n",
       "      <td>0.091417</td>\n",
       "      <td>22.071584</td>\n",
       "    </tr>\n",
       "    <tr>\n",
       "      <th>12</th>\n",
       "      <td>(SET/20 RED RETROSPOT PAPER NAPKINS , SET/6 RE...</td>\n",
       "      <td>(SET/6 RED SPOTTY PAPER PLATES)</td>\n",
       "      <td>0.086768</td>\n",
       "      <td>0.108460</td>\n",
       "      <td>0.084599</td>\n",
       "      <td>0.975000</td>\n",
       "      <td>8.989500</td>\n",
       "      <td>0.075188</td>\n",
       "      <td>35.661605</td>\n",
       "    </tr>\n",
       "    <tr>\n",
       "      <th>13</th>\n",
       "      <td>(SET/20 RED RETROSPOT PAPER NAPKINS , SET/6 RE...</td>\n",
       "      <td>(SET/6 RED SPOTTY PAPER CUPS)</td>\n",
       "      <td>0.086768</td>\n",
       "      <td>0.117137</td>\n",
       "      <td>0.084599</td>\n",
       "      <td>0.975000</td>\n",
       "      <td>8.323611</td>\n",
       "      <td>0.074435</td>\n",
       "      <td>35.314534</td>\n",
       "    </tr>\n",
       "    <tr>\n",
       "      <th>14</th>\n",
       "      <td>(SET/6 RED SPOTTY PAPER CUPS, SET/6 RED SPOTTY...</td>\n",
       "      <td>(SET/20 RED RETROSPOT PAPER NAPKINS )</td>\n",
       "      <td>0.104121</td>\n",
       "      <td>0.112798</td>\n",
       "      <td>0.084599</td>\n",
       "      <td>0.812500</td>\n",
       "      <td>7.203125</td>\n",
       "      <td>0.072854</td>\n",
       "      <td>4.731743</td>\n",
       "    </tr>\n",
       "  </tbody>\n",
       "</table>\n",
       "</div>"
      ],
      "text/plain": [
       "                                          antecedents  \\\n",
       "10                      (SET/6 RED SPOTTY PAPER CUPS)   \n",
       "11                    (SET/6 RED SPOTTY PAPER PLATES)   \n",
       "12  (SET/20 RED RETROSPOT PAPER NAPKINS , SET/6 RE...   \n",
       "13  (SET/20 RED RETROSPOT PAPER NAPKINS , SET/6 RE...   \n",
       "14  (SET/6 RED SPOTTY PAPER CUPS, SET/6 RED SPOTTY...   \n",
       "\n",
       "                              consequents  antecedent support  \\\n",
       "10        (SET/6 RED SPOTTY PAPER PLATES)            0.117137   \n",
       "11          (SET/6 RED SPOTTY PAPER CUPS)            0.108460   \n",
       "12        (SET/6 RED SPOTTY PAPER PLATES)            0.086768   \n",
       "13          (SET/6 RED SPOTTY PAPER CUPS)            0.086768   \n",
       "14  (SET/20 RED RETROSPOT PAPER NAPKINS )            0.104121   \n",
       "\n",
       "    consequent support   support  confidence      lift  leverage  conviction  \n",
       "10            0.108460  0.104121    0.888889  8.195556  0.091417    8.023861  \n",
       "11            0.117137  0.104121    0.960000  8.195556  0.091417   22.071584  \n",
       "12            0.108460  0.084599    0.975000  8.989500  0.075188   35.661605  \n",
       "13            0.117137  0.084599    0.975000  8.323611  0.074435   35.314534  \n",
       "14            0.112798  0.084599    0.812500  7.203125  0.072854    4.731743  "
      ]
     },
     "execution_count": 12,
     "metadata": {},
     "output_type": "execute_result"
    }
   ],
   "source": [
    "rules[ (rules['lift'] >= 6) &\n",
    "       (rules['confidence'] >= 0.8) ]"
   ]
  },
  {
   "cell_type": "markdown",
   "metadata": {},
   "source": [
    "In looking at the rules, it seems that the green and red alarm clocks are purchased together and the red paper cups, napkins and plates are purchased together in a manner that is higher than the overall probability would suggest.\n",
    "\n",
    "At this point, you may want to look at how much opportunity there is to use the popularity of one product to drive sales of another. For instance, we can see that we sell 340 Green Alarm clocks but only 316 Red Alarm Clocks (pls note there is a space after \"RED \" else it will give error) so maybe we can drive more Red Alarm Clock sales through recommendations?"
   ]
  },
  {
   "cell_type": "code",
   "execution_count": 31,
   "metadata": {},
   "outputs": [
    {
     "data": {
      "text/plain": [
       "339.0"
      ]
     },
     "execution_count": 31,
     "metadata": {},
     "output_type": "execute_result"
    }
   ],
   "source": [
    "basket['ALARM CLOCK BAKELIKE GREEN'].sum()"
   ]
  },
  {
   "cell_type": "code",
   "execution_count": 33,
   "metadata": {},
   "outputs": [
    {
     "data": {
      "text/plain": [
       "316.0"
      ]
     },
     "execution_count": 33,
     "metadata": {},
     "output_type": "execute_result"
    }
   ],
   "source": [
    "basket['ALARM CLOCK BAKELIKE RED '].sum()"
   ]
  },
  {
   "cell_type": "markdown",
   "metadata": {},
   "source": [
    "What is also interesting is to see how the combinations vary by country of purchase. Let’s check out what some popular combinations might be in Germany:"
   ]
  },
  {
   "cell_type": "code",
   "execution_count": 17,
   "metadata": {},
   "outputs": [
    {
     "data": {
      "text/html": [
       "<div>\n",
       "<style scoped>\n",
       "    .dataframe tbody tr th:only-of-type {\n",
       "        vertical-align: middle;\n",
       "    }\n",
       "\n",
       "    .dataframe tbody tr th {\n",
       "        vertical-align: top;\n",
       "    }\n",
       "\n",
       "    .dataframe thead th {\n",
       "        text-align: right;\n",
       "    }\n",
       "</style>\n",
       "<table border=\"1\" class=\"dataframe\">\n",
       "  <thead>\n",
       "    <tr style=\"text-align: right;\">\n",
       "      <th></th>\n",
       "      <th>antecedents</th>\n",
       "      <th>consequents</th>\n",
       "      <th>antecedent support</th>\n",
       "      <th>consequent support</th>\n",
       "      <th>support</th>\n",
       "      <th>confidence</th>\n",
       "      <th>lift</th>\n",
       "      <th>leverage</th>\n",
       "      <th>conviction</th>\n",
       "    </tr>\n",
       "  </thead>\n",
       "  <tbody>\n",
       "    <tr>\n",
       "      <th>0</th>\n",
       "      <td>(PLASTERS IN TIN CIRCUS PARADE )</td>\n",
       "      <td>(PLASTERS IN TIN WOODLAND ANIMALS)</td>\n",
       "      <td>0.087894</td>\n",
       "      <td>0.104478</td>\n",
       "      <td>0.051410</td>\n",
       "      <td>0.584906</td>\n",
       "      <td>5.598383</td>\n",
       "      <td>0.042227</td>\n",
       "      <td>2.157395</td>\n",
       "    </tr>\n",
       "    <tr>\n",
       "      <th>4</th>\n",
       "      <td>(ROUND SNACK BOXES SET OF4 WOODLAND )</td>\n",
       "      <td>(ROUND SNACK BOXES SET OF 4 FRUITS )</td>\n",
       "      <td>0.185738</td>\n",
       "      <td>0.119403</td>\n",
       "      <td>0.099502</td>\n",
       "      <td>0.535714</td>\n",
       "      <td>4.486607</td>\n",
       "      <td>0.077325</td>\n",
       "      <td>1.896670</td>\n",
       "    </tr>\n",
       "    <tr>\n",
       "      <th>5</th>\n",
       "      <td>(ROUND SNACK BOXES SET OF 4 FRUITS )</td>\n",
       "      <td>(ROUND SNACK BOXES SET OF4 WOODLAND )</td>\n",
       "      <td>0.119403</td>\n",
       "      <td>0.185738</td>\n",
       "      <td>0.099502</td>\n",
       "      <td>0.833333</td>\n",
       "      <td>4.486607</td>\n",
       "      <td>0.077325</td>\n",
       "      <td>4.885572</td>\n",
       "    </tr>\n",
       "  </tbody>\n",
       "</table>\n",
       "</div>"
      ],
      "text/plain": [
       "                             antecedents  \\\n",
       "0       (PLASTERS IN TIN CIRCUS PARADE )   \n",
       "4  (ROUND SNACK BOXES SET OF4 WOODLAND )   \n",
       "5   (ROUND SNACK BOXES SET OF 4 FRUITS )   \n",
       "\n",
       "                             consequents  antecedent support  \\\n",
       "0     (PLASTERS IN TIN WOODLAND ANIMALS)            0.087894   \n",
       "4   (ROUND SNACK BOXES SET OF 4 FRUITS )            0.185738   \n",
       "5  (ROUND SNACK BOXES SET OF4 WOODLAND )            0.119403   \n",
       "\n",
       "   consequent support   support  confidence      lift  leverage  conviction  \n",
       "0            0.104478  0.051410    0.584906  5.598383  0.042227    2.157395  \n",
       "4            0.119403  0.099502    0.535714  4.486607  0.077325    1.896670  \n",
       "5            0.185738  0.099502    0.833333  4.486607  0.077325    4.885572  "
      ]
     },
     "execution_count": 17,
     "metadata": {},
     "output_type": "execute_result"
    }
   ],
   "source": [
    "basket2 = (df[df['Country'] ==\"Germany\"]\n",
    "          .groupby(['InvoiceNo', 'Description'])['Quantity']\n",
    "          .sum().unstack().reset_index().fillna(0)\n",
    "          .set_index('InvoiceNo'))\n",
    "\n",
    "basket_sets2 = basket2.applymap(encode_units)\n",
    "basket_sets2.drop('POSTAGE', inplace=True, axis=1)\n",
    "frequent_itemsets2 = apriori(basket_sets2, min_support=0.05, use_colnames=True)\n",
    "rules2 = association_rules(frequent_itemsets2, metric=\"lift\", min_threshold=1)\n",
    "\n",
    "rules2[ (rules2['lift'] >= 4) &\n",
    "        (rules2['confidence'] >= 0.5)]"
   ]
  },
  {
   "cell_type": "code",
   "execution_count": null,
   "metadata": {},
   "outputs": [],
   "source": []
  }
 ],
 "metadata": {
  "kernelspec": {
   "display_name": "Python 3",
   "language": "python",
   "name": "python3"
  },
  "language_info": {
   "codemirror_mode": {
    "name": "ipython",
    "version": 3
   },
   "file_extension": ".py",
   "mimetype": "text/x-python",
   "name": "python",
   "nbconvert_exporter": "python",
   "pygments_lexer": "ipython3",
   "version": "3.8.0"
  }
 },
 "nbformat": 4,
 "nbformat_minor": 4
}
