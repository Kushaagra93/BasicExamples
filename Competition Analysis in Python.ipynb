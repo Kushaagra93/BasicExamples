{
 "cells": [
  {
   "cell_type": "markdown",
   "metadata": {},
   "source": [
    "### Competitor analysis using Python\n",
    "\n",
    "*Source: https://towardsdatascience.com/sales-data-science-a-step-by-step-guide-to-competitor-analysis-using-python-7dc03461d284*\n",
    "\n",
    "In this example we will look at a product we all use ie. Smart Phone Screen Guard\n",
    "* Q1. What are the average prices of our product type?\n",
    "* Q2. How does pricing affect sellability?\n",
    "* Q3. What are the most popular screen protector brands?\n",
    "* Q4. Which brands are the most profitable?\n",
    "\n",
    "We will need the following libraries to run this code:\n",
    "#### 1) Scrapy: \n",
    "this web scraping/crawling framework offers convenient features such as marshalling and preprocessing of field values. You can run it via the online scrapinghub platform, which helps to make your crawling process less taxing.\n",
    "#### 2) Pandas: \n",
    "use it to load data into tables (and then clean, process, and analyze it).\n",
    "#### 3) Seaborn and Matplotlib\n",
    "these are some handy libraries for data visualization in Python.\n",
    "\n",
    "### Data mining and preparation\n",
    "#### 1. Getting the data\n",
    "\n",
    "#### 2. Processing the data"
   ]
  },
  {
   "cell_type": "code",
   "execution_count": null,
   "metadata": {},
   "outputs": [],
   "source": []
  }
 ],
 "metadata": {
  "kernelspec": {
   "display_name": "Python 3",
   "language": "python",
   "name": "python3"
  },
  "language_info": {
   "codemirror_mode": {
    "name": "ipython",
    "version": 3
   },
   "file_extension": ".py",
   "mimetype": "text/x-python",
   "name": "python",
   "nbconvert_exporter": "python",
   "pygments_lexer": "ipython3",
   "version": "3.8.0"
  }
 },
 "nbformat": 4,
 "nbformat_minor": 4
}
