{
 "cells": [
  {
   "cell_type": "code",
   "execution_count": 7,
   "metadata": {},
   "outputs": [
    {
     "name": "stdout",
     "output_type": "stream",
     "text": [
      "Enter word: Bannerghetta\n",
      "Did you mean bannering instead? Enter Y if yes, or N if no: N\n",
      "The word doesn't exist. Please double check it.\n"
     ]
    }
   ],
   "source": [
    "import json\n",
    "# Call difflib library & get function get_close_matches\n",
    "from difflib import get_close_matches\n",
    "\n",
    "# Data is in dict type ie. has item with keys as words & values as meaning\n",
    "dictn = json.load(open(\"data.json\"))\n",
    "\n",
    "# Define a function to check if user input word is in dictionary key & return meaning\n",
    "def translate(w):\n",
    "    # Make all inputs in lower case\n",
    "    w = w.lower()\n",
    "    # Check for the input word exact match in the dictionary & if it exists\n",
    "    if w in dictn:\n",
    "        return dictn[w]\n",
    "    # Check for title case match ie. Delhi, Texas etc.\n",
    "    elif w.title() in dictn:\n",
    "         return dictn[w.title()]\n",
    "    # Check for all upper case letters like USA or NATO etc.\n",
    "    elif w.upper() in dictn:\n",
    "        return dictn[w.upper()]\n",
    "    # Check close matches using library difflib & function get_close_matches from dictionary keys\n",
    "    elif len(get_close_matches(w, dictn.keys())) > 0:\n",
    "    #If there are close matches show the closest match & ask for user input Y or N\n",
    "        yn = input(\"Did you mean %s instead? Enter Y if yes, or N if no: \" % get_close_matches(w, dictn.keys())[0])\n",
    "        if yn == \"Y\":\n",
    "            return dictn[get_close_matches(w, dictn.keys())[0]]\n",
    "        elif yn == \"N\":\n",
    "            return \"The word doesn't exist. Please double check it.\"\n",
    "        else:\n",
    "            return \"We didn't understand your entry.\"\n",
    "    else:\n",
    "        return \"The word doesn't exist. Please double check it.\"\n",
    "\n",
    "word = input(\"Enter word: \")\n",
    "output = translate(word)\n",
    "if type(output) == list:\n",
    "    for item in output:\n",
    "        print(item)\n",
    "else:\n",
    "    print(output)"
   ]
  },
  {
   "cell_type": "code",
   "execution_count": null,
   "metadata": {},
   "outputs": [],
   "source": []
  }
 ],
 "metadata": {
  "kernelspec": {
   "display_name": "Python 3",
   "language": "python",
   "name": "python3"
  },
  "language_info": {
   "codemirror_mode": {
    "name": "ipython",
    "version": 3
   },
   "file_extension": ".py",
   "mimetype": "text/x-python",
   "name": "python",
   "nbconvert_exporter": "python",
   "pygments_lexer": "ipython3",
   "version": "3.8.0"
  }
 },
 "nbformat": 4,
 "nbformat_minor": 4
}
